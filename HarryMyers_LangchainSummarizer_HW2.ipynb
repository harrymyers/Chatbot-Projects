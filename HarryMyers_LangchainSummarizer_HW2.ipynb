{
  "nbformat": 4,
  "nbformat_minor": 0,
  "metadata": {
    "colab": {
      "provenance": [],
      "authorship_tag": "ABX9TyMz98Wth6VP45wcDPnjJ8bJ",
      "include_colab_link": true
    },
    "kernelspec": {
      "name": "python3",
      "display_name": "Python 3"
    },
    "language_info": {
      "name": "python"
    }
  },
  "cells": [
    {
      "cell_type": "markdown",
      "metadata": {
        "id": "view-in-github",
        "colab_type": "text"
      },
      "source": [
        "<a href=\"https://colab.research.google.com/github/harrymyers/Chatbot-Projects/blob/main/HarryMyers_LangchainSummarizer_HW2.ipynb\" target=\"_parent\"><img src=\"https://colab.research.google.com/assets/colab-badge.svg\" alt=\"Open In Colab\"/></a>"
      ]
    },
    {
      "cell_type": "code",
      "execution_count": null,
      "metadata": {
        "colab": {
          "base_uri": "https://localhost:8080/"
        },
        "collapsed": true,
        "id": "MPV4BE74Hj14",
        "outputId": "106553a1-ccfb-43ef-e594-9d6cbe4134db"
      },
      "outputs": [
        {
          "output_type": "stream",
          "name": "stdout",
          "text": [
            "Requirement already satisfied: langchain_openai in /usr/local/lib/python3.10/dist-packages (0.1.17)\n",
            "Requirement already satisfied: langchain_core in /usr/local/lib/python3.10/dist-packages (0.2.23)\n",
            "Requirement already satisfied: langchain_community in /usr/local/lib/python3.10/dist-packages (0.2.10)\n",
            "Requirement already satisfied: langchain in /usr/local/lib/python3.10/dist-packages (0.2.11)\n",
            "Collecting faiss-gpu\n",
            "  Downloading faiss_gpu-1.7.2-cp310-cp310-manylinux_2_17_x86_64.manylinux2014_x86_64.whl.metadata (1.4 kB)\n",
            "Requirement already satisfied: openai<2.0.0,>=1.32.0 in /usr/local/lib/python3.10/dist-packages (from langchain_openai) (1.37.0)\n",
            "Requirement already satisfied: tiktoken<1,>=0.7 in /usr/local/lib/python3.10/dist-packages (from langchain_openai) (0.7.0)\n",
            "Requirement already satisfied: PyYAML>=5.3 in /usr/local/lib/python3.10/dist-packages (from langchain_core) (6.0.1)\n",
            "Requirement already satisfied: jsonpatch<2.0,>=1.33 in /usr/local/lib/python3.10/dist-packages (from langchain_core) (1.33)\n",
            "Requirement already satisfied: langsmith<0.2.0,>=0.1.75 in /usr/local/lib/python3.10/dist-packages (from langchain_core) (0.1.93)\n",
            "Requirement already satisfied: packaging<25,>=23.2 in /usr/local/lib/python3.10/dist-packages (from langchain_core) (24.1)\n",
            "Requirement already satisfied: pydantic<3,>=1 in /usr/local/lib/python3.10/dist-packages (from langchain_core) (2.8.2)\n",
            "Requirement already satisfied: tenacity!=8.4.0,<9.0.0,>=8.1.0 in /usr/local/lib/python3.10/dist-packages (from langchain_core) (8.5.0)\n",
            "Requirement already satisfied: SQLAlchemy<3,>=1.4 in /usr/local/lib/python3.10/dist-packages (from langchain_community) (2.0.31)\n",
            "Requirement already satisfied: aiohttp<4.0.0,>=3.8.3 in /usr/local/lib/python3.10/dist-packages (from langchain_community) (3.9.5)\n",
            "Requirement already satisfied: dataclasses-json<0.7,>=0.5.7 in /usr/local/lib/python3.10/dist-packages (from langchain_community) (0.6.7)\n",
            "Requirement already satisfied: numpy<2,>=1 in /usr/local/lib/python3.10/dist-packages (from langchain_community) (1.25.2)\n",
            "Requirement already satisfied: requests<3,>=2 in /usr/local/lib/python3.10/dist-packages (from langchain_community) (2.31.0)\n",
            "Requirement already satisfied: async-timeout<5.0.0,>=4.0.0 in /usr/local/lib/python3.10/dist-packages (from langchain) (4.0.3)\n",
            "Requirement already satisfied: langchain-text-splitters<0.3.0,>=0.2.0 in /usr/local/lib/python3.10/dist-packages (from langchain) (0.2.2)\n",
            "Requirement already satisfied: aiosignal>=1.1.2 in /usr/local/lib/python3.10/dist-packages (from aiohttp<4.0.0,>=3.8.3->langchain_community) (1.3.1)\n",
            "Requirement already satisfied: attrs>=17.3.0 in /usr/local/lib/python3.10/dist-packages (from aiohttp<4.0.0,>=3.8.3->langchain_community) (23.2.0)\n",
            "Requirement already satisfied: frozenlist>=1.1.1 in /usr/local/lib/python3.10/dist-packages (from aiohttp<4.0.0,>=3.8.3->langchain_community) (1.4.1)\n",
            "Requirement already satisfied: multidict<7.0,>=4.5 in /usr/local/lib/python3.10/dist-packages (from aiohttp<4.0.0,>=3.8.3->langchain_community) (6.0.5)\n",
            "Requirement already satisfied: yarl<2.0,>=1.0 in /usr/local/lib/python3.10/dist-packages (from aiohttp<4.0.0,>=3.8.3->langchain_community) (1.9.4)\n",
            "Requirement already satisfied: marshmallow<4.0.0,>=3.18.0 in /usr/local/lib/python3.10/dist-packages (from dataclasses-json<0.7,>=0.5.7->langchain_community) (3.21.3)\n",
            "Requirement already satisfied: typing-inspect<1,>=0.4.0 in /usr/local/lib/python3.10/dist-packages (from dataclasses-json<0.7,>=0.5.7->langchain_community) (0.9.0)\n",
            "Requirement already satisfied: jsonpointer>=1.9 in /usr/local/lib/python3.10/dist-packages (from jsonpatch<2.0,>=1.33->langchain_core) (3.0.0)\n",
            "Requirement already satisfied: orjson<4.0.0,>=3.9.14 in /usr/local/lib/python3.10/dist-packages (from langsmith<0.2.0,>=0.1.75->langchain_core) (3.10.6)\n",
            "Requirement already satisfied: anyio<5,>=3.5.0 in /usr/local/lib/python3.10/dist-packages (from openai<2.0.0,>=1.32.0->langchain_openai) (3.7.1)\n",
            "Requirement already satisfied: distro<2,>=1.7.0 in /usr/lib/python3/dist-packages (from openai<2.0.0,>=1.32.0->langchain_openai) (1.7.0)\n",
            "Requirement already satisfied: httpx<1,>=0.23.0 in /usr/local/lib/python3.10/dist-packages (from openai<2.0.0,>=1.32.0->langchain_openai) (0.27.0)\n",
            "Requirement already satisfied: sniffio in /usr/local/lib/python3.10/dist-packages (from openai<2.0.0,>=1.32.0->langchain_openai) (1.3.1)\n",
            "Requirement already satisfied: tqdm>4 in /usr/local/lib/python3.10/dist-packages (from openai<2.0.0,>=1.32.0->langchain_openai) (4.66.4)\n",
            "Requirement already satisfied: typing-extensions<5,>=4.7 in /usr/local/lib/python3.10/dist-packages (from openai<2.0.0,>=1.32.0->langchain_openai) (4.12.2)\n",
            "Requirement already satisfied: annotated-types>=0.4.0 in /usr/local/lib/python3.10/dist-packages (from pydantic<3,>=1->langchain_core) (0.7.0)\n",
            "Requirement already satisfied: pydantic-core==2.20.1 in /usr/local/lib/python3.10/dist-packages (from pydantic<3,>=1->langchain_core) (2.20.1)\n",
            "Requirement already satisfied: charset-normalizer<4,>=2 in /usr/local/lib/python3.10/dist-packages (from requests<3,>=2->langchain_community) (3.3.2)\n",
            "Requirement already satisfied: idna<4,>=2.5 in /usr/local/lib/python3.10/dist-packages (from requests<3,>=2->langchain_community) (3.7)\n",
            "Requirement already satisfied: urllib3<3,>=1.21.1 in /usr/local/lib/python3.10/dist-packages (from requests<3,>=2->langchain_community) (2.0.7)\n",
            "Requirement already satisfied: certifi>=2017.4.17 in /usr/local/lib/python3.10/dist-packages (from requests<3,>=2->langchain_community) (2024.7.4)\n",
            "Requirement already satisfied: greenlet!=0.4.17 in /usr/local/lib/python3.10/dist-packages (from SQLAlchemy<3,>=1.4->langchain_community) (3.0.3)\n",
            "Requirement already satisfied: regex>=2022.1.18 in /usr/local/lib/python3.10/dist-packages (from tiktoken<1,>=0.7->langchain_openai) (2024.5.15)\n",
            "Requirement already satisfied: exceptiongroup in /usr/local/lib/python3.10/dist-packages (from anyio<5,>=3.5.0->openai<2.0.0,>=1.32.0->langchain_openai) (1.2.2)\n",
            "Requirement already satisfied: httpcore==1.* in /usr/local/lib/python3.10/dist-packages (from httpx<1,>=0.23.0->openai<2.0.0,>=1.32.0->langchain_openai) (1.0.5)\n",
            "Requirement already satisfied: h11<0.15,>=0.13 in /usr/local/lib/python3.10/dist-packages (from httpcore==1.*->httpx<1,>=0.23.0->openai<2.0.0,>=1.32.0->langchain_openai) (0.14.0)\n",
            "Requirement already satisfied: mypy-extensions>=0.3.0 in /usr/local/lib/python3.10/dist-packages (from typing-inspect<1,>=0.4.0->dataclasses-json<0.7,>=0.5.7->langchain_community) (1.0.0)\n",
            "Downloading faiss_gpu-1.7.2-cp310-cp310-manylinux_2_17_x86_64.manylinux2014_x86_64.whl (85.5 MB)\n",
            "\u001b[2K   \u001b[90m━━━━━━━━━━━━━━━━━━━━━━━━━━━━━━━━━━━━━━━━\u001b[0m \u001b[32m85.5/85.5 MB\u001b[0m \u001b[31m8.3 MB/s\u001b[0m eta \u001b[36m0:00:00\u001b[0m\n",
            "\u001b[?25hInstalling collected packages: faiss-gpu\n",
            "Successfully installed faiss-gpu-1.7.2\n"
          ]
        }
      ],
      "source": [
        "!pip install langchain_openai langchain_core langchain_community langchain faiss-gpu"
      ]
    },
    {
      "cell_type": "code",
      "source": [
        "from google.colab import userdata\n",
        "key = userdata.get('open_ai_key')\n",
        "import os\n",
        "os.environ[\"OPENAI_API_KEY\"] = key"
      ],
      "metadata": {
        "id": "VaQQnotgI1ej"
      },
      "execution_count": null,
      "outputs": []
    },
    {
      "cell_type": "markdown",
      "source": [
        "RAG program that can retrieva data from any website provided its link.\n",
        "\n",
        "Built with the help of this youtube series made by a fellow South African:\n",
        "\n",
        "https://www.youtube.com/watch?v=ekpnVh-l3YA&list=PL4HikwTaYE0GEs7lvlYJQcvKhq0QZGRVn"
      ],
      "metadata": {
        "id": "q83vWcbxJEpE"
      }
    },
    {
      "cell_type": "code",
      "source": [
        "from langchain_openai import ChatOpenAI\n",
        "from langchain_core.prompts import ChatPromptTemplate\n",
        "from langchain.chains.combine_documents import create_stuff_documents_chain\n",
        "from langchain_community.document_loaders import WebBaseLoader\n",
        "from langchain.text_splitter import RecursiveCharacterTextSplitter\n",
        "from langchain_openai import OpenAIEmbeddings\n",
        "from langchain_community.vectorstores.faiss import FAISS\n",
        "from langchain.chains import create_retrieval_chain\n",
        "\n",
        "# Retrieve Data\n",
        "def get_docs():\n",
        "    loader = WebBaseLoader('https://en.wikipedia.org/wiki/Roswell_That_Ends_Well')\n",
        "    docs = loader.load()\n",
        "\n",
        "    text_splitter = RecursiveCharacterTextSplitter(\n",
        "        chunk_size=200,\n",
        "        chunk_overlap=20\n",
        "    )\n",
        "\n",
        "    splitDocs = text_splitter.split_documents(docs)\n",
        "\n",
        "    return splitDocs\n",
        "\n",
        "def create_vector_store(docs):\n",
        "    embedding = OpenAIEmbeddings()\n",
        "    vectorStore = FAISS.from_documents(docs, embedding=embedding)\n",
        "    return vectorStore\n",
        "\n",
        "\n",
        "def create_chain(vectorStore):\n",
        "    model = ChatOpenAI(\n",
        "        temperature=0.4,\n",
        "        model='gpt-3.5-turbo-1106'\n",
        "    )\n",
        "\n",
        "    prompt = ChatPromptTemplate.from_template(\"\"\"\n",
        "    Answer the user's question.\n",
        "    Context: {context}\n",
        "    Question: {input}\n",
        "    \"\"\")\n",
        "\n",
        "    # chain = prompt | model\n",
        "    document_chain = create_stuff_documents_chain(\n",
        "        llm=model,\n",
        "        prompt=prompt\n",
        "    )\n",
        "\n",
        "    retriever = vectorStore.as_retriever()\n",
        "\n",
        "    retrieval_chain = create_retrieval_chain(retriever, document_chain)\n",
        "\n",
        "    return retrieval_chain\n",
        "\n",
        "\n",
        "docs = get_docs()\n",
        "vectorStore = create_vector_store(docs)\n",
        "chain = create_chain(vectorStore)\n",
        "\n",
        "response = chain.invoke({\n",
        "    \"input\": \"Summarize the plot of the Futurama episode 'Roswell That Ends Well'.\",\n",
        "})\n",
        "\n",
        "def format_response(text, max_length=100):\n",
        "    words = text.split()\n",
        "    formatted_response = \"\"\n",
        "    line_length = 0\n",
        "\n",
        "    for word in words:\n",
        "        # Check if adding the next word would exceed the max_length\n",
        "        if line_length + len(word) + 1 > max_length:\n",
        "            formatted_response += '\\n'\n",
        "            line_length = 0\n",
        "\n",
        "        # Add the word to the formatted response\n",
        "        if line_length > 0:\n",
        "            formatted_response += ' '\n",
        "            line_length += 1\n",
        "\n",
        "        formatted_response += word\n",
        "        line_length += len(word)\n",
        "\n",
        "    return formatted_response\n",
        "\n",
        "\n",
        "print(format_response(response[\"answer\"]) + '\\n')\n",
        "print(response[\"context\"])"
      ],
      "metadata": {
        "colab": {
          "base_uri": "https://localhost:8080/"
        },
        "id": "mxCfO4gUIj_5",
        "outputId": "8401912e-8198-4a11-8430-360310731cf2"
      },
      "execution_count": null,
      "outputs": [
        {
          "output_type": "stream",
          "name": "stdout",
          "text": [
            "In the episode \"Roswell That Ends Well,\" the Futurama crew accidentally travels back in time to 1947\n",
            "and crash-lands in Roswell, New Mexico. They must navigate the unfamiliar time period and prevent\n",
            "any major changes to history while trying to repair their ship and return to the future. Throughout\n",
            "the episode, they encounter various historical figures and events, leading to comedic and\n",
            "adventurous situations.\n",
            "\n",
            "[Document(metadata={'source': 'https://en.wikipedia.org/wiki/Roswell_That_Ends_Well', 'title': 'Roswell That Ends Well - Wikipedia', 'language': 'en'}, page_content='\"Roswell That Ends Well\" is the nineteenth episode in the  third season of the American animated television series Futurama, and the 51st episode of the series overall. It originally aired on the Fox'), Document(metadata={'source': 'https://en.wikipedia.org/wiki/Roswell_That_Ends_Well', 'title': 'Roswell That Ends Well - Wikipedia', 'language': 'en'}, page_content='^ Groening, Matt (2003). Futurama season 3 DVD commentary for the episode \"Roswell That Ends Well\" (DVD). 20th Century Fox.'), Document(metadata={'source': 'https://en.wikipedia.org/wiki/Roswell_That_Ends_Well', 'title': 'Roswell That Ends Well - Wikipedia', 'language': 'en'}, page_content='\"Roswell That Ends Well\" at IMDb\\nEpisode capsule at GotFuturama.com Archived September 27, 2007, at the Wayback Machine\\nRoswell That Ends Well at The Infosphere.\\nvteFuturama episodes\\nSeasons\\n1\\n2\\n3\\n4'), Document(metadata={'source': 'https://en.wikipedia.org/wiki/Roswell_That_Ends_Well', 'title': 'Roswell That Ends Well - Wikipedia', 'language': 'en'}, page_content='\"Roswell That Ends Well\"Futurama episodeEpisode no.Season\\xa03Episode 19Directed byRich MooreWritten byJ. Stewart BurnsProduction code3ACV19Original air dateDecember\\xa09,\\xa02001\\xa0(2001-12-09)Episode')]\n"
          ]
        }
      ]
    }
  ]
}